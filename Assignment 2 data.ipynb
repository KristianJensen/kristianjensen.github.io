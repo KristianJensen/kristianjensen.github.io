{
 "cells": [
  {
   "cell_type": "markdown",
   "metadata": {},
   "source": [
    "# Generate K-means clusterings of prostitution data"
   ]
  },
  {
   "cell_type": "code",
   "execution_count": 2,
   "metadata": {
    "collapsed": true
   },
   "outputs": [],
   "source": [
    "import pandas as pd\n",
    "from sklearn.cluster import KMeans\n",
    "import json"
   ]
  },
  {
   "cell_type": "code",
   "execution_count": 3,
   "metadata": {
    "collapsed": false
   },
   "outputs": [],
   "source": [
    "# Load data\n",
    "full_df = pd.read_csv(\"../../Data/Map__Crime_Incidents_-_from_1_Jan_2003.csv\")"
   ]
  },
  {
   "cell_type": "code",
   "execution_count": 4,
   "metadata": {
    "collapsed": false
   },
   "outputs": [],
   "source": [
    "# Select only the prostitution data and extract the X,Y-coordinates\n",
    "prostitution_df = full_df[full_df[\"Category\"] == \"PROSTITUTION\"][[\"X\", \"Y\"]]\n",
    "prostitution_df = prostitution_df[prostitution_df[\"Y\"] != 90]"
   ]
  },
  {
   "cell_type": "code",
   "execution_count": 7,
   "metadata": {
    "collapsed": false
   },
   "outputs": [],
   "source": [
    "# Perform K-means clusterings for K in {2, 3, 4, 5, 6}\n",
    "centroids = {}\n",
    "for k in range(2, 7):\n",
    "    km = KMeans(k)\n",
    "    col = str(k)\n",
    "    km.fit(prostitution_df[[\"X\", \"Y\"]])\n",
    "    prostitution_df[col] = km.labels_\n",
    "    centroids[col] = [list(a) for a in km.cluster_centers_]"
   ]
  },
  {
   "cell_type": "code",
   "execution_count": 8,
   "metadata": {
    "collapsed": false
   },
   "outputs": [],
   "source": [
    "# Format the data\n",
    "plot_data = {\n",
    "    \"points\": [dict(r) for idx, r in prostitution_df.reset_index().iterrows()],\n",
    "    \"centroids\": centroids\n",
    "}"
   ]
  },
  {
   "cell_type": "code",
   "execution_count": 70,
   "metadata": {
    "collapsed": false
   },
   "outputs": [],
   "source": [
    "# Output the data\n",
    "with open(\"data/Plot_prostitution.json\", \"w\") as outfile:\n",
    "    json.dump(plot_data, outfile)"
   ]
  }
 ],
 "metadata": {
  "kernelspec": {
   "display_name": "Python [social]",
   "language": "python",
   "name": "Python [social]"
  },
  "language_info": {
   "codemirror_mode": {
    "name": "ipython",
    "version": 2
   },
   "file_extension": ".py",
   "mimetype": "text/x-python",
   "name": "python",
   "nbconvert_exporter": "python",
   "pygments_lexer": "ipython2",
   "version": "2.7.13"
  }
 },
 "nbformat": 4,
 "nbformat_minor": 0
}
